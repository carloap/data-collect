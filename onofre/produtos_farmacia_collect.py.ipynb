{
 "cells": [
  {
   "cell_type": "markdown",
   "metadata": {},
   "source": [
    "## Rotina para coleta de dados de produtos farmaceuticos com Web Scraping.\n",
    "\n",
    "#### A coleta será feita a partir do arquivo 'sitemap.xml' de farmacias online, e estruturado para uma posterior analise...\n"
   ]
  },
  {
   "cell_type": "code",
   "execution_count": 1,
   "metadata": {},
   "outputs": [],
   "source": [
    "# importando bibliotecas\n",
    "import requests\n",
    "from bs4 import BeautifulSoup\n",
    "import pandas as pd\n",
    "import re"
   ]
  },
  {
   "cell_type": "markdown",
   "metadata": {},
   "source": [
    "### Carregando dados de uma URL de origem"
   ]
  },
  {
   "cell_type": "code",
   "execution_count": 2,
   "metadata": {},
   "outputs": [],
   "source": [
    "# url com a listagem de produtos fonte\n",
    "url_fonte = 'https://www.onofre.com.br/saude/medicamentos/todos-de-a-e-z/parasin-400-mg-com-1-comprimido-mastigavel'"
   ]
  },
  {
   "cell_type": "code",
   "execution_count": 3,
   "metadata": {},
   "outputs": [],
   "source": [
    "# conectando...\n",
    "con = requests.get(url_fonte)"
   ]
  },
  {
   "cell_type": "markdown",
   "metadata": {},
   "source": [
    "### Testar conexão..."
   ]
  },
  {
   "cell_type": "code",
   "execution_count": 4,
   "metadata": {},
   "outputs": [
    {
     "data": {
      "text/plain": [
       "200"
      ]
     },
     "execution_count": 4,
     "metadata": {},
     "output_type": "execute_result"
    }
   ],
   "source": [
    "con.status_code"
   ]
  },
  {
   "cell_type": "code",
   "execution_count": 7,
   "metadata": {},
   "outputs": [],
   "source": [
    "# Teste do conteúdo\n",
    "#print(con.content)"
   ]
  },
  {
   "cell_type": "markdown",
   "metadata": {},
   "source": [
    "### Criar um objeto BeautifulSoup com os elementos HTML estruturados"
   ]
  },
  {
   "cell_type": "code",
   "execution_count": 8,
   "metadata": {},
   "outputs": [],
   "source": [
    "# criando objeto BeautifulSoup com o conteúdo html da página\n",
    "soup = BeautifulSoup(con.content, \"html.parser\")\n",
    "con.close()"
   ]
  },
  {
   "cell_type": "code",
   "execution_count": 13,
   "metadata": {},
   "outputs": [],
   "source": [
    "# teste saída pelo BeautifulSoup\n",
    "#print(soup.prettify())"
   ]
  },
  {
   "cell_type": "markdown",
   "metadata": {},
   "source": [
    "### Mapear e extrair dados..."
   ]
  },
  {
   "cell_type": "code",
   "execution_count": 10,
   "metadata": {},
   "outputs": [],
   "source": [
    "# Capturar informações\n",
    "elem = soup.find('div', class_='product-information--top')\n",
    "\n",
    "nomeRemedio = elem.find('h1').string\n",
    "marcaRemedio = elem.find('h3').string\n",
    "categoriaRemedio = elem.find('h1', class_='product-information__title')['data-product-category']\n",
    "statusRemedio = elem.find('strong').string.strip()"
   ]
  },
  {
   "cell_type": "markdown",
   "metadata": {},
   "source": [
    "### Estruturar os dados em uma lista"
   ]
  },
  {
   "cell_type": "code",
   "execution_count": 11,
   "metadata": {},
   "outputs": [],
   "source": [
    "# Armazenar os dados em um dicionário\n",
    "dictRemedio = {} # representa as colunas\n",
    "df_listaRemedios = [] # representa as linhas\n",
    "\n",
    "dictRemedio['nome'] = nomeRemedio\n",
    "dictRemedio['marca'] = marcaRemedio\n",
    "dictRemedio['categoria'] = categoriaRemedio\n",
    "dictRemedio['status'] = statusRemedio\n",
    "\n",
    "df_listaRemedios.append(dictRemedio.copy()) # Adiciona o dicionário em uma lista\n"
   ]
  },
  {
   "cell_type": "code",
   "execution_count": 12,
   "metadata": {},
   "outputs": [
    {
     "name": "stdout",
     "output_type": "stream",
     "text": [
      "[{'nome': 'Parasin 400 Mg com 1 Comprimido Mastigável', 'marca': 'Aché', 'categoria': 'Todos de A e Z', 'status': 'EM ESTOQUE'}]\n"
     ]
    }
   ],
   "source": [
    "print(df_listaRemedios)"
   ]
  },
  {
   "cell_type": "code",
   "execution_count": null,
   "metadata": {},
   "outputs": [],
   "source": []
  }
 ],
 "metadata": {
  "kernelspec": {
   "display_name": "Python 3",
   "language": "python",
   "name": "python3"
  },
  "language_info": {
   "codemirror_mode": {
    "name": "ipython",
    "version": 3
   },
   "file_extension": ".py",
   "mimetype": "text/x-python",
   "name": "python",
   "nbconvert_exporter": "python",
   "pygments_lexer": "ipython3",
   "version": "3.6.4"
  }
 },
 "nbformat": 4,
 "nbformat_minor": 2
}
